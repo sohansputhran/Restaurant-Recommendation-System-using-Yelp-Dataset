{
 "cells": [
  {
   "cell_type": "code",
   "execution_count": 4,
   "metadata": {},
   "outputs": [],
   "source": [
    "import pandas as pd\n",
    "import numpy as np\n",
    "import math\n",
    "import json \n",
    "from uszipcode import SearchEngine, SimpleZipcode, Zipcode\n",
    "import re\n",
    "import fuzzywuzzy\n",
    "from fuzzywuzzy import process\n",
    "import chardet\n",
    "import warnings\n",
    "warnings.filterwarnings('ignore')\n",
    "search = SearchEngine()\n",
    "\n",
    "#os.chdir(\"D:\\CSP 571\\yelp data\")\n"
   ]
  },
  {
   "cell_type": "code",
   "execution_count": 5,
   "metadata": {},
   "outputs": [],
   "source": [
    "business_data = pd.read_csv(\"Business_in_Illinois.csv\") \n",
    "business_data.columns.values[0] = \"index\""
   ]
  },
  {
   "cell_type": "code",
   "execution_count": 6,
   "metadata": {},
   "outputs": [
    {
     "data": {
      "text/html": [
       "<div>\n",
       "<style scoped>\n",
       "    .dataframe tbody tr th:only-of-type {\n",
       "        vertical-align: middle;\n",
       "    }\n",
       "\n",
       "    .dataframe tbody tr th {\n",
       "        vertical-align: top;\n",
       "    }\n",
       "\n",
       "    .dataframe thead th {\n",
       "        text-align: right;\n",
       "    }\n",
       "</style>\n",
       "<table border=\"1\" class=\"dataframe\">\n",
       "  <thead>\n",
       "    <tr style=\"text-align: right;\">\n",
       "      <th></th>\n",
       "      <th>index</th>\n",
       "      <th>business_id</th>\n",
       "      <th>name</th>\n",
       "      <th>address</th>\n",
       "      <th>city</th>\n",
       "      <th>state</th>\n",
       "      <th>postal_code</th>\n",
       "      <th>latitude</th>\n",
       "      <th>longitude</th>\n",
       "      <th>stars</th>\n",
       "      <th>review_count</th>\n",
       "      <th>is_open</th>\n",
       "      <th>attributes</th>\n",
       "      <th>categories</th>\n",
       "      <th>hours</th>\n",
       "    </tr>\n",
       "  </thead>\n",
       "  <tbody>\n",
       "    <tr>\n",
       "      <td>0</td>\n",
       "      <td>0</td>\n",
       "      <td>mofOjB6flg-eAWOFbOkHfQ</td>\n",
       "      <td>ChinaTown Buffet</td>\n",
       "      <td>713 W Marketview Dr</td>\n",
       "      <td>Champaign</td>\n",
       "      <td>IL</td>\n",
       "      <td>61822.0</td>\n",
       "      <td>40.137270</td>\n",
       "      <td>-88.256043</td>\n",
       "      <td>2.5</td>\n",
       "      <td>72</td>\n",
       "      <td>1</td>\n",
       "      <td>{'WiFi': \"u'no'\", 'RestaurantsReservations': '...</td>\n",
       "      <td>Restaurants</td>\n",
       "      <td>{'Monday': '11:0-21:0', 'Tuesday': '11:0-21:0'...</td>\n",
       "    </tr>\n",
       "    <tr>\n",
       "      <td>1</td>\n",
       "      <td>1</td>\n",
       "      <td>m4DwPVxmFDQE_FnGIOa3cQ</td>\n",
       "      <td>Sunny China Buffet</td>\n",
       "      <td>1703 Philo Rd</td>\n",
       "      <td>Urbana</td>\n",
       "      <td>IL</td>\n",
       "      <td>61802.0</td>\n",
       "      <td>40.097639</td>\n",
       "      <td>-88.191217</td>\n",
       "      <td>3.5</td>\n",
       "      <td>15</td>\n",
       "      <td>1</td>\n",
       "      <td>{'RestaurantsGoodForGroups': 'True', 'Business...</td>\n",
       "      <td>Restaurants</td>\n",
       "      <td>NaN</td>\n",
       "    </tr>\n",
       "    <tr>\n",
       "      <td>2</td>\n",
       "      <td>2</td>\n",
       "      <td>HbK6IfznbVToEaKVC0WcSg</td>\n",
       "      <td>The Clark Bar</td>\n",
       "      <td>207 W Clark St</td>\n",
       "      <td>Champaign</td>\n",
       "      <td>IL</td>\n",
       "      <td>61820.0</td>\n",
       "      <td>40.115017</td>\n",
       "      <td>-88.246156</td>\n",
       "      <td>3.5</td>\n",
       "      <td>24</td>\n",
       "      <td>1</td>\n",
       "      <td>{'Alcohol': \"u'full_bar'\", 'GoodForKids': 'Fal...</td>\n",
       "      <td>Restaurants</td>\n",
       "      <td>{'Tuesday': '16:0-2:0', 'Wednesday': '16:0-2:0...</td>\n",
       "    </tr>\n",
       "    <tr>\n",
       "      <td>3</td>\n",
       "      <td>3</td>\n",
       "      <td>o9nGD3J0btXjE9M6IdgZTA</td>\n",
       "      <td>McAlister's Deli</td>\n",
       "      <td>421 Town Center Rd</td>\n",
       "      <td>Champaign</td>\n",
       "      <td>IL</td>\n",
       "      <td>61820.0</td>\n",
       "      <td>40.141668</td>\n",
       "      <td>-88.250360</td>\n",
       "      <td>3.0</td>\n",
       "      <td>50</td>\n",
       "      <td>1</td>\n",
       "      <td>{'RestaurantsTakeOut': 'True', 'RestaurantsAtt...</td>\n",
       "      <td>Restaurants</td>\n",
       "      <td>{'Monday': '0:0-0:0', 'Tuesday': '10:30-21:0',...</td>\n",
       "    </tr>\n",
       "    <tr>\n",
       "      <td>4</td>\n",
       "      <td>4</td>\n",
       "      <td>sDfN5qJlmvrwTfwEPBsxSg</td>\n",
       "      <td>Dairy Queen</td>\n",
       "      <td>1103 Klein Ave</td>\n",
       "      <td>Rantoul</td>\n",
       "      <td>IL</td>\n",
       "      <td>61866.0</td>\n",
       "      <td>40.311299</td>\n",
       "      <td>-88.142882</td>\n",
       "      <td>2.0</td>\n",
       "      <td>4</td>\n",
       "      <td>1</td>\n",
       "      <td>{'GoodForKids': 'False', 'BusinessAcceptsCredi...</td>\n",
       "      <td>Restaurants</td>\n",
       "      <td>NaN</td>\n",
       "    </tr>\n",
       "  </tbody>\n",
       "</table>\n",
       "</div>"
      ],
      "text/plain": [
       "   index             business_id                name              address  \\\n",
       "0      0  mofOjB6flg-eAWOFbOkHfQ    ChinaTown Buffet  713 W Marketview Dr   \n",
       "1      1  m4DwPVxmFDQE_FnGIOa3cQ  Sunny China Buffet        1703 Philo Rd   \n",
       "2      2  HbK6IfznbVToEaKVC0WcSg       The Clark Bar       207 W Clark St   \n",
       "3      3  o9nGD3J0btXjE9M6IdgZTA    McAlister's Deli   421 Town Center Rd   \n",
       "4      4  sDfN5qJlmvrwTfwEPBsxSg         Dairy Queen       1103 Klein Ave   \n",
       "\n",
       "        city state  postal_code   latitude  longitude  stars  review_count  \\\n",
       "0  Champaign    IL      61822.0  40.137270 -88.256043    2.5            72   \n",
       "1     Urbana    IL      61802.0  40.097639 -88.191217    3.5            15   \n",
       "2  Champaign    IL      61820.0  40.115017 -88.246156    3.5            24   \n",
       "3  Champaign    IL      61820.0  40.141668 -88.250360    3.0            50   \n",
       "4    Rantoul    IL      61866.0  40.311299 -88.142882    2.0             4   \n",
       "\n",
       "   is_open                                         attributes   categories  \\\n",
       "0        1  {'WiFi': \"u'no'\", 'RestaurantsReservations': '...  Restaurants   \n",
       "1        1  {'RestaurantsGoodForGroups': 'True', 'Business...  Restaurants   \n",
       "2        1  {'Alcohol': \"u'full_bar'\", 'GoodForKids': 'Fal...  Restaurants   \n",
       "3        1  {'RestaurantsTakeOut': 'True', 'RestaurantsAtt...  Restaurants   \n",
       "4        1  {'GoodForKids': 'False', 'BusinessAcceptsCredi...  Restaurants   \n",
       "\n",
       "                                               hours  \n",
       "0  {'Monday': '11:0-21:0', 'Tuesday': '11:0-21:0'...  \n",
       "1                                                NaN  \n",
       "2  {'Tuesday': '16:0-2:0', 'Wednesday': '16:0-2:0...  \n",
       "3  {'Monday': '0:0-0:0', 'Tuesday': '10:30-21:0',...  \n",
       "4                                                NaN  "
      ]
     },
     "execution_count": 6,
     "metadata": {},
     "output_type": "execute_result"
    }
   ],
   "source": [
    "business_data.head()"
   ]
  },
  {
   "cell_type": "code",
   "execution_count": 7,
   "metadata": {},
   "outputs": [
    {
     "data": {
      "text/plain": [
       "(457, 15)"
      ]
     },
     "execution_count": 7,
     "metadata": {},
     "output_type": "execute_result"
    }
   ],
   "source": [
    "business_data.shape"
   ]
  },
  {
   "cell_type": "code",
   "execution_count": 4,
   "metadata": {},
   "outputs": [
    {
     "name": "stdout",
     "output_type": "stream",
     "text": [
      "Missing Count  index            0\n",
      "business_id      0\n",
      "name             0\n",
      "address          4\n",
      "city             0\n",
      "state            0\n",
      "postal_code      1\n",
      "latitude         0\n",
      "longitude        0\n",
      "stars            0\n",
      "review_count     0\n",
      "is_open          0\n",
      "attributes      18\n",
      "categories       0\n",
      "hours           87\n",
      "dtype: int64\n"
     ]
    }
   ],
   "source": [
    "## check missing values\n",
    "missing_value_count = business_data.isnull().sum()\n",
    "print('Missing Count ', missing_value_count)\n",
    "\n",
    "## Fill empty postal code\n",
    "def get_postal_code(col_values):\n",
    "    if (pd.isna(col_values['postal_code'])):\n",
    "        zip_code = search.by_coordinates(col_values['latitude'], col_values['longitude'], radius=10)\n",
    "        col_values['postal_code'] = zip_code[0].zipcode\n",
    "    return col_values\n",
    "business_data = business_data.apply(get_postal_code, axis = 1)\n"
   ]
  },
  {
   "cell_type": "markdown",
   "metadata": {},
   "source": [
    "#### Since the missing values of address, attributes and hours correspond to missing entry, we cannot comprehend their values from other columns\n"
   ]
  },
  {
   "cell_type": "code",
   "execution_count": 5,
   "metadata": {},
   "outputs": [
    {
     "data": {
      "text/plain": [
       "index            0\n",
       "business_id      0\n",
       "name             0\n",
       "address          4\n",
       "city             0\n",
       "state            0\n",
       "postal_code      0\n",
       "latitude         0\n",
       "longitude        0\n",
       "stars            0\n",
       "review_count     0\n",
       "is_open          0\n",
       "attributes      18\n",
       "categories       0\n",
       "hours            0\n",
       "dtype: int64"
      ]
     },
     "execution_count": 5,
     "metadata": {},
     "output_type": "execute_result"
    }
   ],
   "source": [
    "business_data['hours'] = business_data['hours'].fillna('')\n",
    "\n",
    "business_data.isnull().sum()"
   ]
  },
  {
   "cell_type": "code",
   "execution_count": 7,
   "metadata": {},
   "outputs": [],
   "source": [
    "## Update hours with missing values for entire week \n",
    "def hours_check(col_values):\n",
    "    pattern = \"{('\\w+':'0:0-0:0'){7}}\"\n",
    "    matched = None\n",
    "    result = json.dumps(col_values['hours'])\n",
    "    result = result.replace(\" \", \"\")\n",
    "    result = result.replace(\",\", \"\")\n",
    "    matched = re.search(pattern, result)\n",
    "    if (matched):\n",
    "        col_values['hours'] = 0\n",
    "        \n",
    "    return col_values\n",
    "    \n",
    "business_data = business_data.apply(hours_check, axis = 1)"
   ]
  },
  {
   "cell_type": "code",
   "execution_count": 8,
   "metadata": {},
   "outputs": [
    {
     "data": {
      "text/html": [
       "<div>\n",
       "<style scoped>\n",
       "    .dataframe tbody tr th:only-of-type {\n",
       "        vertical-align: middle;\n",
       "    }\n",
       "\n",
       "    .dataframe tbody tr th {\n",
       "        vertical-align: top;\n",
       "    }\n",
       "\n",
       "    .dataframe thead th {\n",
       "        text-align: right;\n",
       "    }\n",
       "</style>\n",
       "<table border=\"1\" class=\"dataframe\">\n",
       "  <thead>\n",
       "    <tr style=\"text-align: right;\">\n",
       "      <th></th>\n",
       "      <th>index</th>\n",
       "      <th>business_id</th>\n",
       "      <th>name</th>\n",
       "      <th>address</th>\n",
       "      <th>city</th>\n",
       "      <th>state</th>\n",
       "      <th>postal_code</th>\n",
       "      <th>latitude</th>\n",
       "      <th>longitude</th>\n",
       "      <th>stars</th>\n",
       "      <th>review_count</th>\n",
       "      <th>is_open</th>\n",
       "      <th>attributes</th>\n",
       "      <th>categories</th>\n",
       "      <th>hours</th>\n",
       "    </tr>\n",
       "  </thead>\n",
       "  <tbody>\n",
       "    <tr>\n",
       "      <th>0</th>\n",
       "      <td>0</td>\n",
       "      <td>mofOjB6flg-eAWOFbOkHfQ</td>\n",
       "      <td>ChinaTown Buffet</td>\n",
       "      <td>713 W Marketview Dr</td>\n",
       "      <td>Champaign</td>\n",
       "      <td>IL</td>\n",
       "      <td>61822</td>\n",
       "      <td>40.137270</td>\n",
       "      <td>-88.256043</td>\n",
       "      <td>2.5</td>\n",
       "      <td>72</td>\n",
       "      <td>1</td>\n",
       "      <td>{'WiFi': \"u'no'\", 'RestaurantsReservations': '...</td>\n",
       "      <td>Restaurants</td>\n",
       "      <td>{'Monday': '11:0-21:0', 'Tuesday': '11:0-21:0'...</td>\n",
       "    </tr>\n",
       "    <tr>\n",
       "      <th>1</th>\n",
       "      <td>1</td>\n",
       "      <td>m4DwPVxmFDQE_FnGIOa3cQ</td>\n",
       "      <td>Sunny China Buffet</td>\n",
       "      <td>1703 Philo Rd</td>\n",
       "      <td>Urbana</td>\n",
       "      <td>IL</td>\n",
       "      <td>61802</td>\n",
       "      <td>40.097639</td>\n",
       "      <td>-88.191217</td>\n",
       "      <td>3.5</td>\n",
       "      <td>15</td>\n",
       "      <td>1</td>\n",
       "      <td>{'RestaurantsGoodForGroups': 'True', 'Business...</td>\n",
       "      <td>Restaurants</td>\n",
       "      <td></td>\n",
       "    </tr>\n",
       "    <tr>\n",
       "      <th>2</th>\n",
       "      <td>2</td>\n",
       "      <td>HbK6IfznbVToEaKVC0WcSg</td>\n",
       "      <td>The Clark Bar</td>\n",
       "      <td>207 W Clark St</td>\n",
       "      <td>Champaign</td>\n",
       "      <td>IL</td>\n",
       "      <td>61820</td>\n",
       "      <td>40.115017</td>\n",
       "      <td>-88.246156</td>\n",
       "      <td>3.5</td>\n",
       "      <td>24</td>\n",
       "      <td>1</td>\n",
       "      <td>{'Alcohol': \"u'full_bar'\", 'GoodForKids': 'Fal...</td>\n",
       "      <td>Restaurants</td>\n",
       "      <td>{'Tuesday': '16:0-2:0', 'Wednesday': '16:0-2:0...</td>\n",
       "    </tr>\n",
       "    <tr>\n",
       "      <th>3</th>\n",
       "      <td>3</td>\n",
       "      <td>o9nGD3J0btXjE9M6IdgZTA</td>\n",
       "      <td>McAlister's Deli</td>\n",
       "      <td>421 Town Center Rd</td>\n",
       "      <td>Champaign</td>\n",
       "      <td>IL</td>\n",
       "      <td>61820</td>\n",
       "      <td>40.141668</td>\n",
       "      <td>-88.250360</td>\n",
       "      <td>3.0</td>\n",
       "      <td>50</td>\n",
       "      <td>1</td>\n",
       "      <td>{'RestaurantsTakeOut': 'True', 'RestaurantsAtt...</td>\n",
       "      <td>Restaurants</td>\n",
       "      <td>{'Monday': '0:0-0:0', 'Tuesday': '10:30-21:0',...</td>\n",
       "    </tr>\n",
       "    <tr>\n",
       "      <th>4</th>\n",
       "      <td>4</td>\n",
       "      <td>sDfN5qJlmvrwTfwEPBsxSg</td>\n",
       "      <td>Dairy Queen</td>\n",
       "      <td>1103 Klein Ave</td>\n",
       "      <td>Rantoul</td>\n",
       "      <td>IL</td>\n",
       "      <td>61866</td>\n",
       "      <td>40.311299</td>\n",
       "      <td>-88.142882</td>\n",
       "      <td>2.0</td>\n",
       "      <td>4</td>\n",
       "      <td>1</td>\n",
       "      <td>{'GoodForKids': 'False', 'BusinessAcceptsCredi...</td>\n",
       "      <td>Restaurants</td>\n",
       "      <td></td>\n",
       "    </tr>\n",
       "  </tbody>\n",
       "</table>\n",
       "</div>"
      ],
      "text/plain": [
       "   index             business_id                name              address  \\\n",
       "0      0  mofOjB6flg-eAWOFbOkHfQ    ChinaTown Buffet  713 W Marketview Dr   \n",
       "1      1  m4DwPVxmFDQE_FnGIOa3cQ  Sunny China Buffet        1703 Philo Rd   \n",
       "2      2  HbK6IfznbVToEaKVC0WcSg       The Clark Bar       207 W Clark St   \n",
       "3      3  o9nGD3J0btXjE9M6IdgZTA    McAlister's Deli   421 Town Center Rd   \n",
       "4      4  sDfN5qJlmvrwTfwEPBsxSg         Dairy Queen       1103 Klein Ave   \n",
       "\n",
       "        city state postal_code   latitude  longitude  stars  review_count  \\\n",
       "0  Champaign    IL       61822  40.137270 -88.256043    2.5            72   \n",
       "1     Urbana    IL       61802  40.097639 -88.191217    3.5            15   \n",
       "2  Champaign    IL       61820  40.115017 -88.246156    3.5            24   \n",
       "3  Champaign    IL       61820  40.141668 -88.250360    3.0            50   \n",
       "4    Rantoul    IL       61866  40.311299 -88.142882    2.0             4   \n",
       "\n",
       "   is_open                                         attributes   categories  \\\n",
       "0        1  {'WiFi': \"u'no'\", 'RestaurantsReservations': '...  Restaurants   \n",
       "1        1  {'RestaurantsGoodForGroups': 'True', 'Business...  Restaurants   \n",
       "2        1  {'Alcohol': \"u'full_bar'\", 'GoodForKids': 'Fal...  Restaurants   \n",
       "3        1  {'RestaurantsTakeOut': 'True', 'RestaurantsAtt...  Restaurants   \n",
       "4        1  {'GoodForKids': 'False', 'BusinessAcceptsCredi...  Restaurants   \n",
       "\n",
       "                                               hours  \n",
       "0  {'Monday': '11:0-21:0', 'Tuesday': '11:0-21:0'...  \n",
       "1                                                     \n",
       "2  {'Tuesday': '16:0-2:0', 'Wednesday': '16:0-2:0...  \n",
       "3  {'Monday': '0:0-0:0', 'Tuesday': '10:30-21:0',...  \n",
       "4                                                     "
      ]
     },
     "execution_count": 8,
     "metadata": {},
     "output_type": "execute_result"
    }
   ],
   "source": [
    "business_data.head()"
   ]
  },
  {
   "cell_type": "code",
   "execution_count": 9,
   "metadata": {},
   "outputs": [
    {
     "data": {
      "text/plain": [
       "array(['Champaign', 'Urbana', 'Rantoul', 'Saint Joseph', 'Monticello',\n",
       "       'Mahomet', 'Ogden', 'Savoy', 'St Joseph', 'Sidney', 'Tolono',\n",
       "       'Philo', 'Fisher', 'Villa Grove', 'Homer', 'Mansfield', 'Gifford',\n",
       "       'Tuscola'], dtype=object)"
      ]
     },
     "execution_count": 9,
     "metadata": {},
     "output_type": "execute_result"
    }
   ],
   "source": [
    "## Checking for inconsistent Data\n",
    "cities = business_data['city'].unique()\n",
    "cities"
   ]
  },
  {
   "cell_type": "code",
   "execution_count": 12,
   "metadata": {},
   "outputs": [
    {
     "data": {
      "text/plain": [
       "array(['Champaign', 'Urbana', 'Rantoul', 'St Joseph', 'Monticello',\n",
       "       'Mahomet', 'Ogden', 'Savoy', 'Sidney', 'Tolono', 'Philo', 'Fisher',\n",
       "       'Villa Grove', 'Homer', 'Mansfield', 'Gifford', 'Tuscola'],\n",
       "      dtype=object)"
      ]
     },
     "execution_count": 12,
     "metadata": {},
     "output_type": "execute_result"
    }
   ],
   "source": [
    "## There only city with inconsistent name is Saint Joseph, so we will update that\n",
    "business_data['city'] = business_data['city'].str.lower()\n",
    "business_data['city'] = business_data['city'].str.strip()\n",
    "\n",
    "def replace_matches(df, column, string_to_match, min_ratio = 80):\n",
    "    strings = df[column].unique()\n",
    "    matches = fuzzywuzzy.process.extract(string_to_match, strings, \n",
    "                                         limit=10, scorer=fuzzywuzzy.fuzz.token_sort_ratio)\n",
    "    close_matches = [matches[0] for matches in matches if matches[1] >= min_ratio]\n",
    "    rows_with_matches = df[column].isin(close_matches)\n",
    "    df.loc[rows_with_matches, column] = string_to_match\n",
    "    \n",
    "for city in cities:\n",
    "    replace_matches(business_data, column='city', string_to_match=city)\n",
    "\n",
    "business_data['city'].unique()  "
   ]
  },
  {
   "cell_type": "code",
   "execution_count": 13,
   "metadata": {},
   "outputs": [
    {
     "data": {
      "text/plain": [
       "(457, 15)"
      ]
     },
     "execution_count": 13,
     "metadata": {},
     "output_type": "execute_result"
    }
   ],
   "source": [
    "business_data.shape"
   ]
  },
  {
   "cell_type": "code",
   "execution_count": null,
   "metadata": {},
   "outputs": [],
   "source": [
    "business_data.to_csv('Business_in_Illinois.csv')"
   ]
  }
 ],
 "metadata": {
  "kernelspec": {
   "display_name": "Python 3",
   "language": "python",
   "name": "python3"
  },
  "language_info": {
   "codemirror_mode": {
    "name": "ipython",
    "version": 3
   },
   "file_extension": ".py",
   "mimetype": "text/x-python",
   "name": "python",
   "nbconvert_exporter": "python",
   "pygments_lexer": "ipython3",
   "version": "3.7.6"
  }
 },
 "nbformat": 4,
 "nbformat_minor": 4
}
