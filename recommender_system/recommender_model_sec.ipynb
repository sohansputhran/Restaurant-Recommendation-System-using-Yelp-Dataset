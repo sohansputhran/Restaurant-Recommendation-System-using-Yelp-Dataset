{
 "cells": [
  {
   "cell_type": "code",
   "execution_count": 1,
   "metadata": {},
   "outputs": [
    {
     "name": "stderr",
     "output_type": "stream",
     "text": [
      "C:\\Users\\shouv\\Anaconda3\\lib\\site-packages\\lightfm\\_lightfm_fast.py:9: UserWarning: LightFM was compiled without OpenMP support. Only a single thread will be used.\n",
      "  warnings.warn('LightFM was compiled without OpenMP support. '\n"
     ]
    }
   ],
   "source": [
    "# Loading Libraries\n",
    "\n",
    "import numpy as np\n",
    "import pandas as pd\n",
    "import matplotlib.pyplot as plt\n",
    "from lightfm import LightFM\n",
    "from lightfm.evaluation import precision_at_k,auc_score,reciprocal_rank\n",
    "import scipy\n",
    "import time\n",
    "import math\n",
    "from lightfm.data import Dataset\n",
    "import warnings\n",
    "warnings.filterwarnings('ignore')"
   ]
  },
  {
   "cell_type": "code",
   "execution_count": 2,
   "metadata": {},
   "outputs": [],
   "source": [
    "# Loading DataSets\n",
    "\n",
    "users = pd.read_csv('users_tag.csv',index_col=0)\n",
    "business = pd.read_csv('business_cj.csv',index_col=0)\n",
    "review = pd.read_csv('IL_review.csv',index_col=0)\n",
    "food_inspections_dataset = pd.read_csv('Food_Inspections.csv',index_col=0)\n",
    "data = pd.read_csv('dc_dec_2019_sf3_u_data1.csv',index_col=0)\n"
   ]
  },
  {
   "cell_type": "code",
   "execution_count": 3,
   "metadata": {},
   "outputs": [],
   "source": [
    "# Mapping the secondary dataset\n",
    "\n",
    "business = pd.merge(business, food_inspections_dataset[['DBA Name', 'Risk','Zip']], left_on = ['name','postal_code'],right_on = ['DBA Name','Zip'], how = 'left')\n",
    "business = pd.merge(business, data[['ZIPCODE', 'Median_income_2019']], left_on = ['postal_code'],right_on = ['ZIPCODE'], how = 'left')\n",
    "business=business.drop(columns =['DBA Name','ZIPCODE','Zip'])"
   ]
  },
  {
   "cell_type": "markdown",
   "metadata": {},
   "source": [
    "## Check Sparsity"
   ]
  },
  {
   "cell_type": "code",
   "execution_count": 4,
   "metadata": {},
   "outputs": [
    {
     "name": "stdout",
     "output_type": "stream",
     "text": [
      "Number of users: 12859\n",
      "Number of models: 845\n",
      "Sparsity: 0.326%\n"
     ]
    }
   ],
   "source": [
    "#For recommender system you want to see which user bought which item or which user rated which item.\n",
    "#In practical scenario users do not rate/ buy every item, large number of users are concentrated on few items \n",
    "# and hence a certain amount of items are untouched by users.\n",
    "\n",
    "# Since we do not have any action of customers on some items while we have it on certain other items, \n",
    "# this emptiness of interaction is called sparsity problem.\n",
    "\n",
    "\n",
    "\n",
    "n_users = review.user_id.unique().shape[0]\n",
    "n_items = review.business_id.unique().shape[0]\n",
    "\n",
    "print('Number of users: {}'.format(n_users))\n",
    "print('Number of models: {}'.format(n_items))\n",
    "print('Sparsity: {:4.3f}%'.format(float(review.shape[0]) / float(n_users*n_items) * 100))"
   ]
  },
  {
   "cell_type": "code",
   "execution_count": 5,
   "metadata": {},
   "outputs": [
    {
     "data": {
      "text/plain": [
       "(array([1.2649e+04, 1.5400e+02, 3.3000e+01, 1.0000e+01, 7.0000e+00,\n",
       "        4.0000e+00, 1.0000e+00, 0.0000e+00, 0.0000e+00, 1.0000e+00]),\n",
       " array([1.0000e+00, 4.8370e+02, 9.6640e+02, 1.4491e+03, 1.9318e+03,\n",
       "        2.4145e+03, 2.8972e+03, 3.3799e+03, 3.8626e+03, 4.3453e+03,\n",
       "        4.8280e+03]),\n",
       " <a list of 10 Patch objects>)"
      ]
     },
     "execution_count": 5,
     "metadata": {},
     "output_type": "execute_result"
    },
    {
     "data": {
      "image/png": "[encoded data removed]",
      "text/plain": [
       "<Figure size 432x288 with 1 Axes>"
      ]
     },
     "metadata": {
      "needs_background": "light"
     },
     "output_type": "display_data"
    }
   ],
   "source": [
    "# looking at the review distribution\n",
    "\n",
    "plt.hist(users.review_count)\n"
   ]
  },
  {
   "cell_type": "code",
   "execution_count": 6,
   "metadata": {
    "scrolled": true
   },
   "outputs": [
    {
     "data": {
      "text/plain": [
       "(array([  5.,  39., 104., 101.,   0., 194., 210., 175., 101.,  24.]),\n",
       " array([1. , 1.4, 1.8, 2.2, 2.6, 3. , 3.4, 3.8, 4.2, 4.6, 5. ]),\n",
       " <a list of 10 Patch objects>)"
      ]
     },
     "execution_count": 6,
     "metadata": {},
     "output_type": "execute_result"
    },
    {
     "data": {
      "image/png": "[encoded data removed]",
      "text/plain": [
       "<Figure size 432x288 with 1 Axes>"
      ]
     },
     "metadata": {
      "needs_background": "light"
     },
     "output_type": "display_data"
    }
   ],
   "source": [
    "# looking at the stars distribution\n",
    "\n",
    "plt.hist(business.stars)"
   ]
  },
  {
   "cell_type": "code",
   "execution_count": 7,
   "metadata": {},
   "outputs": [
    {
     "data": {
      "text/plain": [
       "(array([424., 135.,   0.,  54.,  38.,   6., 151.,  22.,  44.,  79.]),\n",
       " array([19591. , 23666.8, 27742.6, 31818.4, 35894.2, 39970. , 44045.8,\n",
       "        48121.6, 52197.4, 56273.2, 60349. ]),\n",
       " <a list of 10 Patch objects>)"
      ]
     },
     "execution_count": 7,
     "metadata": {},
     "output_type": "execute_result"
    },
    {
     "data": {
      "image/png": "[encoded data removed]",
      "text/plain": [
       "<Figure size 432x288 with 1 Axes>"
      ]
     },
     "metadata": {
      "needs_background": "light"
     },
     "output_type": "display_data"
    }
   ],
   "source": [
    "# looking at the median Income distribution\n",
    "\n",
    "plt.hist(business.Median_income_2019)"
   ]
  },
  {
   "cell_type": "code",
   "execution_count": 8,
   "metadata": {},
   "outputs": [
    {
     "data": {
      "text/plain": [
       "(array([3.4645e+04, 6.1900e+02, 8.1000e+01, 2.5000e+01, 5.0000e+00,\n",
       "        8.0000e+00, 1.0000e+00, 4.0000e+00, 0.0000e+00, 1.0000e+00]),\n",
       " array([ 0. ,  2.8,  5.6,  8.4, 11.2, 14. , 16.8, 19.6, 22.4, 25.2, 28. ]),\n",
       " <a list of 10 Patch objects>)"
      ]
     },
     "execution_count": 8,
     "metadata": {},
     "output_type": "execute_result"
    },
    {
     "data": {
      "image/png": "[encoded data removed]",
      "text/plain": [
       "<Figure size 432x288 with 1 Axes>"
      ]
     },
     "metadata": {
      "needs_background": "light"
     },
     "output_type": "display_data"
    }
   ],
   "source": [
    "# looking at the cool distribution\n",
    "\n",
    "plt.hist(review.cool)"
   ]
  },
  {
   "cell_type": "code",
   "execution_count": 9,
   "metadata": {},
   "outputs": [
    {
     "data": {
      "text/plain": [
       "(array([3.2996e+04, 1.9670e+03, 3.0200e+02, 8.0000e+01, 1.1000e+01,\n",
       "        2.1000e+01, 5.0000e+00, 4.0000e+00, 1.0000e+00, 2.0000e+00]),\n",
       " array([ 0. ,  3.8,  7.6, 11.4, 15.2, 19. , 22.8, 26.6, 30.4, 34.2, 38. ]),\n",
       " <a list of 10 Patch objects>)"
      ]
     },
     "execution_count": 9,
     "metadata": {},
     "output_type": "execute_result"
    },
    {
     "data": {
      "image/png": "[encoded data removed]",
      "text/plain": [
       "<Figure size 432x288 with 1 Axes>"
      ]
     },
     "metadata": {
      "needs_background": "light"
     },
     "output_type": "display_data"
    }
   ],
   "source": [
    "# looking at the useful distribution\n",
    "\n",
    "plt.hist(review.useful)"
   ]
  },
  {
   "cell_type": "code",
   "execution_count": 10,
   "metadata": {},
   "outputs": [
    {
     "data": {
      "text/plain": [
       "(array([3.5082e+04, 2.3600e+02, 4.1000e+01, 1.9000e+01, 7.0000e+00,\n",
       "        1.0000e+00, 1.0000e+00, 1.0000e+00, 0.0000e+00, 1.0000e+00]),\n",
       " array([ 0.,  6., 12., 18., 24., 30., 36., 42., 48., 54., 60.]),\n",
       " <a list of 10 Patch objects>)"
      ]
     },
     "execution_count": 10,
     "metadata": {},
     "output_type": "execute_result"
    },
    {
     "data": {
      "image/png": "[encoded data removed]",
      "text/plain": [
       "<Figure size 432x288 with 1 Axes>"
      ]
     },
     "metadata": {
      "needs_background": "light"
     },
     "output_type": "display_data"
    }
   ],
   "source": [
    "# looking at the funny distribution\n",
    "\n",
    "plt.hist(review.funny)"
   ]
  },
  {
   "cell_type": "code",
   "execution_count": 11,
   "metadata": {},
   "outputs": [],
   "source": [
    "# clean user skewness\n",
    "users.review_count = pd.Series([math.log(x+1) for x in users.review_count])\n",
    "users.useful =  pd.Series([math.log(x+1) for x in users.useful])\n",
    "users.cool =  pd.Series([math.log(x+1) for x in users.cool])\n",
    "users.funny =  pd.Series([math.log(x+1) for x in users.funny])\n",
    "\n",
    "#cleam business skewness\n",
    "business.review_count =  pd.Series([math.log(x+1) for x in business.review_count])"
   ]
  },
  {
   "cell_type": "code",
   "execution_count": 12,
   "metadata": {},
   "outputs": [
    {
     "data": {
      "text/plain": [
       "(1081, 2)"
      ]
     },
     "execution_count": 12,
     "metadata": {},
     "output_type": "execute_result"
    }
   ],
   "source": [
    "# checking if there are duplicate reviews\n",
    "a = review.groupby(['business_id','user_id']).agg(['count']).reset_index()\n",
    "tmp = a.useful.sort_values(by = 'count',ascending = False).reset_index()\n",
    "tmp[tmp['count'] >1].shape"
   ]
  },
  {
   "cell_type": "markdown",
   "metadata": {},
   "source": [
    "### 1081 users have multiple review for one business "
   ]
  },
  {
   "cell_type": "code",
   "execution_count": 13,
   "metadata": {},
   "outputs": [
    {
     "data": {
      "text/plain": [
       "0       26917\n",
       "1        5843\n",
       "2        5233\n",
       "3       22282\n",
       "4          69\n",
       "        ...  \n",
       "1076    16741\n",
       "1077     5210\n",
       "1078    17853\n",
       "1079     5204\n",
       "1080    27569\n",
       "Name: index, Length: 1081, dtype: int64"
      ]
     },
     "execution_count": 13,
     "metadata": {},
     "output_type": "execute_result"
    }
   ],
   "source": [
    "multiple_reviewers = tmp[tmp['count']>1]['index']\n",
    "multiple_reviewers"
   ]
  },
  {
   "cell_type": "code",
   "execution_count": 14,
   "metadata": {},
   "outputs": [],
   "source": [
    "# removing duplicate entries and taking latest entries of users for a particular business\n",
    "\n",
    "for ind in multiple_reviewers:\n",
    "    tmp = review[(review.user_id == a.loc[ind, 'user_id'][0]) & \n",
    "                 (review.business_id == a.loc[ind, 'business_id'][0])].sort_values(by = 'date', ascending = True)\n",
    "    review.drop(tmp.index[0:len(tmp.index)-1],inplace=True)"
   ]
  },
  {
   "cell_type": "code",
   "execution_count": 15,
   "metadata": {},
   "outputs": [
    {
     "data": {
      "text/plain": [
       "(0, 2)"
      ]
     },
     "execution_count": 15,
     "metadata": {},
     "output_type": "execute_result"
    }
   ],
   "source": [
    "# checking if duplicate values have been removed\n",
    "\n",
    "b = review.groupby(['business_id','user_id']).agg(['count']).reset_index()\n",
    "tmp = b.useful.sort_values(by = 'count',ascending = False).reset_index()\n",
    "tmp[tmp['count'] >1].shape"
   ]
  },
  {
   "cell_type": "code",
   "execution_count": 16,
   "metadata": {},
   "outputs": [],
   "source": [
    "# the review_stars contains bias, thus needs to be normalized by subtracting the average stars from it and \n",
    "# make negative stars to -1 and positive stars to +1\n",
    "\n",
    "user_ind = review.user_id.unique()\n",
    "for ind in user_ind:\n",
    "    this_avg=users.average_stars[users.user_id == ind]\n",
    "    temp = review.stars[review.user_id == ind] - float(this_avg)\n",
    "    temp[temp>0] = 1\n",
    "    temp[temp<0] = -1\n",
    "    review.stars[review.user_id == ind] = temp\n"
   ]
  },
  {
   "cell_type": "code",
   "execution_count": 17,
   "metadata": {},
   "outputs": [
    {
     "data": {
      "text/plain": [
       "array([-1.,  1.,  0.])"
      ]
     },
     "execution_count": 17,
     "metadata": {},
     "output_type": "execute_result"
    }
   ],
   "source": [
    "review.stars.unique()"
   ]
  },
  {
   "cell_type": "code",
   "execution_count": 18,
   "metadata": {},
   "outputs": [
    {
     "name": "stdout",
     "output_type": "stream",
     "text": [
      "Num users: 12859, num_items 845.\n"
     ]
    }
   ],
   "source": [
    "# The first thing we need to do is to create a mapping between the user id and business ids from our input data \n",
    "# This mapping will provide indices that will be used internally by our model.\n",
    "\n",
    "# model establishment\n",
    "dataset = Dataset()\n",
    "dataset.fit(review.user_id,review.business_id)\n",
    "num_users, num_items = dataset.interactions_shape()\n",
    "print('Num users: {}, num_items {}.'.format(num_users, num_items))"
   ]
  },
  {
   "cell_type": "code",
   "execution_count": 19,
   "metadata": {},
   "outputs": [],
   "source": [
    "# fit item and user features.\n",
    "\n",
    "dataset.fit_partial(items=business.business_id,\n",
    "                    item_features=['stars'])\n",
    "dataset.fit_partial(items=business.business_id,\n",
    "                    item_features=['review_count'])\n",
    "dataset.fit_partial(items=business.business_id,\n",
    "                    item_features=['Median_income_2019'])\n"
   ]
  },
  {
   "cell_type": "code",
   "execution_count": 20,
   "metadata": {},
   "outputs": [
    {
     "data": {
      "text/plain": [
       "0      Ethnic Food, Food Trucks, Specialty Food, Impo...\n",
       "1      Restaurants, Diners, Sandwiches, Breakfast & B...\n",
       "2      Restaurants, Diners, Sandwiches, Breakfast & B...\n",
       "3                        Hot Dogs, Restaurants, Barbeque\n",
       "4                             Donuts, Food, Coffee & Tea\n",
       "                             ...                        \n",
       "948            Sushi Bars, Chinese, Buffets, Restaurants\n",
       "949      Fast Food, Restaurants, Tex-Mex, Mexican, Tacos\n",
       "950                                 Italian, Restaurants\n",
       "951                 Fast Food, Restaurants, Pizza, Salad\n",
       "952                   Sandwiches, Fast Food, Restaurants\n",
       "Name: category, Length: 953, dtype: object"
      ]
     },
     "execution_count": 20,
     "metadata": {},
     "output_type": "execute_result"
    }
   ],
   "source": [
    "business.category "
   ]
  },
  {
   "cell_type": "code",
   "execution_count": 21,
   "metadata": {},
   "outputs": [],
   "source": [
    "# We have categories from column number 45\n",
    "\n",
    "tar_cols = [x for x in business.columns[45:106]]\n",
    "\n",
    "dataset.fit_partial(items = business.business_id,\n",
    "                   item_features = tar_cols) "
   ]
  },
  {
   "cell_type": "code",
   "execution_count": 22,
   "metadata": {},
   "outputs": [],
   "source": [
    "# Creating useful features from the users dataset\n",
    "\n",
    "user_cols = [x for x in users.drop(columns = ['user_id', 'name', 'yelping_since', 'elite', 'friends', 'fans', 'average_stars', 'compliment_hot',\n",
    "       'compliment_more', 'compliment_profile', 'compliment_cute',\n",
    "       'compliment_list', 'compliment_note', 'compliment_plain',\n",
    "       'compliment_cool', 'compliment_funny', 'compliment_writer',\n",
    "       'compliment_photos', 'year',]).columns]"
   ]
  },
  {
   "cell_type": "code",
   "execution_count": 23,
   "metadata": {},
   "outputs": [],
   "source": [
    "# Adding User Features\n",
    "\n",
    "dataset.fit_partial(users = users.user_id,\n",
    "                    user_features = user_cols)"
   ]
  },
  {
   "cell_type": "code",
   "execution_count": 24,
   "metadata": {},
   "outputs": [
    {
     "name": "stdout",
     "output_type": "stream",
     "text": [
      "<class 'lightfm.data.Dataset'>\n",
      "(12909, 910)\n",
      "(12859, 12909)\n",
      "(846, 910)\n",
      "(12859, 846)\n"
     ]
    }
   ],
   "source": [
    "# Check data\n",
    "\n",
    "print(type(dataset))\n",
    "print(dataset.model_dimensions())\n",
    "print(dataset.user_features_shape())\n",
    "print(dataset.item_features_shape())\n",
    "print(dataset.interactions_shape())"
   ]
  },
  {
   "cell_type": "code",
   "execution_count": 25,
   "metadata": {},
   "outputs": [
    {
     "data": {
      "text/plain": [
       "[('9A1C1f0m4nQltQrOOTl-Kw', 0),\n",
       " ('VHsNB3pdGVcRgs6C3jt6Zg', 1),\n",
       " ('Ah4i15g8Ow_zphzcpulTxQ', 2),\n",
       " ('9MnbQg7kfb_WgxoV0hXKSQ', 3),\n",
       " ('t_yiQnxUDdPPCN2z4QyezA', 4),\n",
       " ('-fiUXzkxRfbHY9TKWwuptw', 5),\n",
       " ('NEVA0IYbawceL6kz5v5DAw', 6),\n",
       " ('RwMlwusAtxZc5a3ZYduulg', 7),\n",
       " ('ObNQVg_ohRVLex4ppmMC5w', 8),\n",
       " ('-Jhlh8Scjy669NdtCfKSSg', 9)]"
      ]
     },
     "execution_count": 25,
     "metadata": {},
     "output_type": "execute_result"
    }
   ],
   "source": [
    "# look at item feature mapping\n",
    "a = dataset.mapping()[3]\n",
    "list(a.items())[0:10]"
   ]
  },
  {
   "cell_type": "code",
   "execution_count": 26,
   "metadata": {},
   "outputs": [
    {
     "name": "stdout",
     "output_type": "stream",
     "text": [
      "<12859x846 sparse matrix of type '<class 'numpy.int32'>'\n",
      "\twith 34223 stored elements in COOrdinate format>\n"
     ]
    }
   ],
   "source": [
    "#build interaction\n",
    "\n",
    "(interactions, weights) = dataset.build_interactions([(x['user_id'], x['business_id'], \n",
    "                                                       x['stars']) for index,x in review.iterrows()])\n",
    "print(repr(interactions))"
   ]
  },
  {
   "cell_type": "code",
   "execution_count": 27,
   "metadata": {},
   "outputs": [
    {
     "name": "stdout",
     "output_type": "stream",
     "text": [
      "maximum business review count\n",
      "6.723832440821209\n",
      "maximum user review count\n",
      "8.482394685873542\n",
      "Median income 2019\n",
      "60349.0\n",
      "<846x910 sparse matrix of type '<class 'numpy.float32'>'\n",
      "\twith 53388 stored elements in Compressed Sparse Row format>\n",
      "(846, 910)\n",
      "<12859x12909 sparse matrix of type '<class 'numpy.float32'>'\n",
      "\twith 655809 stored elements in Compressed Sparse Row format>\n",
      "(12859, 12909)\n"
     ]
    }
   ],
   "source": [
    "def build_dict(df,tar_cols,val_list):\n",
    "    rst = {}\n",
    "    for col in tar_cols:\n",
    "        rst[col] = df[col]\n",
    "    sum_val = sum(list(rst.values())) # get sum of all the tfidf values\n",
    "    \n",
    "    if(sum_val == 0):\n",
    "        return rst\n",
    "    else:\n",
    "        \n",
    "        w = (2-sum(val_list))/sum_val # weight for each tag to be able to sum to 1\n",
    "        for key,value in rst.items():\n",
    "            rst[key] = value * w\n",
    "    return rst\n",
    "\n",
    "# get max of each column to regularize value to [0,1]\n",
    "max_star = max(business.stars)\n",
    "max_b_review_count = max(business.review_count)\n",
    "max_Median_income_2019= max(business.Median_income_2019)\n",
    "business['Median_income_2019']=pd.to_numeric(business['Median_income_2019'])\n",
    "print('maximum business review count')\n",
    "print(max_b_review_count)\n",
    "\n",
    "# give CF info weight 0.5, all other 0.5. Then in others, give (star, review count) 0.25 and tags 0.25\n",
    "item_features = dataset.build_item_features([(x['business_id'], \n",
    "                                              {'stars':0.5*x['stars']/max_star,'review_count':0.5*x['Median_income_2019']/max_Median_income_2019,\n",
    "                                               'review_count':0.5*x['review_count']/max_b_review_count,\n",
    "                                               **build_dict(x,tar_cols,[0.5*x['stars']/max_star,\n",
    "                                                           0.5*x['review_count']/max_b_review_count,0.5*x['Median_income_2019']/max_Median_income_2019])})\n",
    "                                              for index,x in business.iterrows()])\n",
    "\n",
    "max_u_review_count = max(users.review_count)\n",
    "max_useful = max(users.useful)\n",
    "print('maximum user review count')\n",
    "print(max_u_review_count)\n",
    "print('Median income 2019')\n",
    "print(max_Median_income_2019)\n",
    "\n",
    "user_features = dataset.build_user_features(((x['user_id'],\n",
    "                                             {'review_count':0.35*x['review_count']/max_u_review_count,'is_elite':0.35*int(x['is_elite']),\n",
    "                                              'useful':0.35*x['useful']/max_useful,\n",
    "                                             **build_dict(x,user_cols,[0.35*x['review_count']/max_u_review_count,\n",
    "                                                                            0.35*int(x['is_elite']),\n",
    "                                                                            0.35*x['useful']/max_useful])})\n",
    "                                           for index, x in users.iterrows()))\n",
    "\n",
    "print(repr(item_features))\n",
    "print(item_features.shape)\n",
    "\n",
    "print(repr(user_features))\n",
    "print(user_features.shape)"
   ]
  },
  {
   "cell_type": "code",
   "execution_count": 28,
   "metadata": {},
   "outputs": [
    {
     "name": "stdout",
     "output_type": "stream",
     "text": [
      "(1, 910)\n",
      "[array([0, 0, 0, 0, 0, 0, 0, 0]), array([  3, 846, 847, 850, 851, 852, 871, 888])]\n",
      "(1, 12909)\n"
     ]
    },
    {
     "data": {
      "text/plain": [
       "[array([0, 0, 0, 0]), array([    3, 12859, 12860, 12869])]"
      ]
     },
     "execution_count": 28,
     "metadata": {},
     "output_type": "execute_result"
    }
   ],
   "source": [
    "\n",
    "# check features to see if weights make sense\n",
    "idx = 3\n",
    "tt = list(item_features[idx].nonzero())\n",
    "print(item_features[idx].shape)\n",
    "print(tt)\n",
    "\n",
    "uu = list(user_features[idx].nonzero())\n",
    "print(user_features[idx].shape)\n",
    "uu"
   ]
  },
  {
   "cell_type": "code",
   "execution_count": 29,
   "metadata": {},
   "outputs": [
    {
     "name": "stdout",
     "output_type": "stream",
     "text": [
      "[{0.0, 0.35926408, 0.05988701, 0.16166884, 0.17963204}]\n"
     ]
    },
    {
     "data": {
      "text/plain": [
       "[{0.0, 0.114341676, 0.23776683, 0.29328063, 0.35461086}]"
      ]
     },
     "execution_count": 29,
     "metadata": {},
     "output_type": "execute_result"
    }
   ],
   "source": [
    "# Create a dense structure of item features and user features to view it\n",
    "\n",
    "tt = item_features[idx].todense()\n",
    "import pandas as pd\n",
    "tt = pd.DataFrame(tt)\n",
    "print(list(map(set,tt.values)))# feature weight sum to 1, so if two are nonzero, each take weight 0.5. \n",
    "\n",
    "uu = user_features[idx].todense()\n",
    "uu = pd.DataFrame(uu)\n",
    "list(map(set,uu.values))# feature weight sum to 1, so if two are nonzero, each take weight 0.5."
   ]
  },
  {
   "cell_type": "code",
   "execution_count": 30,
   "metadata": {},
   "outputs": [
    {
     "data": {
      "text/html": [
       "<div>\n",
       "<style scoped>\n",
       "    .dataframe tbody tr th:only-of-type {\n",
       "        vertical-align: middle;\n",
       "    }\n",
       "\n",
       "    .dataframe tbody tr th {\n",
       "        vertical-align: top;\n",
       "    }\n",
       "\n",
       "    .dataframe thead th {\n",
       "        text-align: right;\n",
       "    }\n",
       "</style>\n",
       "<table border=\"1\" class=\"dataframe\">\n",
       "  <thead>\n",
       "    <tr style=\"text-align: right;\">\n",
       "      <th></th>\n",
       "      <th>0</th>\n",
       "      <th>1</th>\n",
       "      <th>2</th>\n",
       "      <th>3</th>\n",
       "      <th>4</th>\n",
       "      <th>5</th>\n",
       "      <th>6</th>\n",
       "      <th>7</th>\n",
       "      <th>8</th>\n",
       "      <th>9</th>\n",
       "      <th>...</th>\n",
       "      <th>900</th>\n",
       "      <th>901</th>\n",
       "      <th>902</th>\n",
       "      <th>903</th>\n",
       "      <th>904</th>\n",
       "      <th>905</th>\n",
       "      <th>906</th>\n",
       "      <th>907</th>\n",
       "      <th>908</th>\n",
       "      <th>909</th>\n",
       "    </tr>\n",
       "  </thead>\n",
       "  <tbody>\n",
       "    <tr>\n",
       "      <td>0</td>\n",
       "      <td>0.0</td>\n",
       "      <td>0.0</td>\n",
       "      <td>0.0</td>\n",
       "      <td>0.359264</td>\n",
       "      <td>0.0</td>\n",
       "      <td>0.0</td>\n",
       "      <td>0.0</td>\n",
       "      <td>0.0</td>\n",
       "      <td>0.0</td>\n",
       "      <td>0.0</td>\n",
       "      <td>...</td>\n",
       "      <td>0.0</td>\n",
       "      <td>0.0</td>\n",
       "      <td>0.0</td>\n",
       "      <td>0.0</td>\n",
       "      <td>0.0</td>\n",
       "      <td>0.0</td>\n",
       "      <td>0.0</td>\n",
       "      <td>0.0</td>\n",
       "      <td>0.0</td>\n",
       "      <td>0.0</td>\n",
       "    </tr>\n",
       "  </tbody>\n",
       "</table>\n",
       "<p>1 rows × 910 columns</p>\n",
       "</div>"
      ],
      "text/plain": [
       "   0    1    2         3    4    5    6    7    8    9    ...  900  901  902  \\\n",
       "0  0.0  0.0  0.0  0.359264  0.0  0.0  0.0  0.0  0.0  0.0  ...  0.0  0.0  0.0   \n",
       "\n",
       "   903  904  905  906  907  908  909  \n",
       "0  0.0  0.0  0.0  0.0  0.0  0.0  0.0  \n",
       "\n",
       "[1 rows x 910 columns]"
      ]
     },
     "execution_count": 30,
     "metadata": {},
     "output_type": "execute_result"
    }
   ],
   "source": [
    "tt"
   ]
  },
  {
   "cell_type": "code",
   "execution_count": 31,
   "metadata": {},
   "outputs": [
    {
     "data": {
      "text/html": [
       "<div>\n",
       "<style scoped>\n",
       "    .dataframe tbody tr th:only-of-type {\n",
       "        vertical-align: middle;\n",
       "    }\n",
       "\n",
       "    .dataframe tbody tr th {\n",
       "        vertical-align: top;\n",
       "    }\n",
       "\n",
       "    .dataframe thead th {\n",
       "        text-align: right;\n",
       "    }\n",
       "</style>\n",
       "<table border=\"1\" class=\"dataframe\">\n",
       "  <thead>\n",
       "    <tr style=\"text-align: right;\">\n",
       "      <th></th>\n",
       "      <th>0</th>\n",
       "      <th>1</th>\n",
       "      <th>2</th>\n",
       "      <th>3</th>\n",
       "      <th>4</th>\n",
       "      <th>5</th>\n",
       "      <th>6</th>\n",
       "      <th>7</th>\n",
       "      <th>8</th>\n",
       "      <th>9</th>\n",
       "      <th>...</th>\n",
       "      <th>12899</th>\n",
       "      <th>12900</th>\n",
       "      <th>12901</th>\n",
       "      <th>12902</th>\n",
       "      <th>12903</th>\n",
       "      <th>12904</th>\n",
       "      <th>12905</th>\n",
       "      <th>12906</th>\n",
       "      <th>12907</th>\n",
       "      <th>12908</th>\n",
       "    </tr>\n",
       "  </thead>\n",
       "  <tbody>\n",
       "    <tr>\n",
       "      <td>0</td>\n",
       "      <td>0.0</td>\n",
       "      <td>0.0</td>\n",
       "      <td>0.0</td>\n",
       "      <td>0.354611</td>\n",
       "      <td>0.0</td>\n",
       "      <td>0.0</td>\n",
       "      <td>0.0</td>\n",
       "      <td>0.0</td>\n",
       "      <td>0.0</td>\n",
       "      <td>0.0</td>\n",
       "      <td>...</td>\n",
       "      <td>0.0</td>\n",
       "      <td>0.0</td>\n",
       "      <td>0.0</td>\n",
       "      <td>0.0</td>\n",
       "      <td>0.0</td>\n",
       "      <td>0.0</td>\n",
       "      <td>0.0</td>\n",
       "      <td>0.0</td>\n",
       "      <td>0.0</td>\n",
       "      <td>0.0</td>\n",
       "    </tr>\n",
       "  </tbody>\n",
       "</table>\n",
       "<p>1 rows × 12909 columns</p>\n",
       "</div>"
      ],
      "text/plain": [
       "   0      1      2         3      4      5      6      7      8      9      \\\n",
       "0    0.0    0.0    0.0  0.354611    0.0    0.0    0.0    0.0    0.0    0.0   \n",
       "\n",
       "   ...  12899  12900  12901  12902  12903  12904  12905  12906  12907  12908  \n",
       "0  ...    0.0    0.0    0.0    0.0    0.0    0.0    0.0    0.0    0.0    0.0  \n",
       "\n",
       "[1 rows x 12909 columns]"
      ]
     },
     "execution_count": 31,
     "metadata": {},
     "output_type": "execute_result"
    }
   ],
   "source": [
    "uu\n"
   ]
  },
  {
   "cell_type": "code",
   "execution_count": 32,
   "metadata": {},
   "outputs": [
    {
     "name": "stdout",
     "output_type": "stream",
     "text": [
      "The dataset has 12859 users and 846 items, with 6845 interactions in the test and 27378 interactions in the training set.\n"
     ]
    },
    {
     "data": {
      "text/plain": [
       "True"
      ]
     },
     "execution_count": 32,
     "metadata": {},
     "output_type": "execute_result"
    }
   ],
   "source": [
    "#train-test split\n",
    "\n",
    "seed = 1001\n",
    "from lightfm.cross_validation import random_train_test_split\n",
    "train,test=random_train_test_split(interactions,test_percentage=0.2,random_state=np.random.RandomState(seed))\n",
    "\n",
    "print('The dataset has %s users and %s items, '\n",
    "      'with %s interactions in the test and %s interactions in the training set.'\n",
    "      % (train.shape[0], train.shape[1], test.getnnz(), train.getnnz()))\n",
    "\n",
    "train.multiply(test).nnz == 0 # make sure train and test are truly disjoint"
   ]
  },
  {
   "cell_type": "code",
   "execution_count": 33,
   "metadata": {},
   "outputs": [
    {
     "name": "stdout",
     "output_type": "stream",
     "text": [
      "Wall time: 19.7 s\n",
      "Collaborative filtering train AUC: 0.8156379\n",
      "Collaborative filtering test AUC: 0.8056547\n",
      "Train precision: 0.0429\n",
      "Test precision: 0.0319\n"
     ]
    }
   ],
   "source": [
    "\n",
    "from lightfm import LightFM\n",
    "\n",
    "# Set the number of threads; you can increase this if you have more physical cores available.\n",
    "\n",
    "## These parameters are obtained after tunning for specific loss through skopt in the bottom chunk\n",
    "NUM_THREADS = 25\n",
    "NUM_COMPONENTS = 43    \n",
    "NUM_EPOCHS =40\n",
    "ITEM_ALPHA = 2.88752e-6\n",
    "learning_rate=0.06652\n",
    "k = 5 # for precision at k\n",
    "\n",
    "## Pure Collaborative Filtering models\n",
    "\n",
    "# Logistic loss\n",
    "model_1 = LightFM(loss='logistic',random_state=seed,\n",
    "                item_alpha=ITEM_ALPHA,\n",
    "               no_components=NUM_COMPONENTS,\n",
    "               learning_rate=learning_rate)\n",
    "\n",
    "# time it.\n",
    "%time model_1 = model_1.fit(train,epochs=NUM_EPOCHS,num_threads=NUM_THREADS)\n",
    "\n",
    "\n",
    "# Import the evaluation routines\n",
    "from lightfm.evaluation import auc_score\n",
    "\n",
    "# Compute and print the AUC score\n",
    "train_auc = auc_score(model_1, train, num_threads=NUM_THREADS).mean()\n",
    "print('Collaborative filtering train AUC: %s' % train_auc)\n",
    "\n",
    "test_auc = auc_score(model_1, test,num_threads=NUM_THREADS).mean()\n",
    "print('Collaborative filtering test AUC: %s' % test_auc)\n",
    "\n",
    "from lightfm.evaluation import precision_at_k,recall_at_k\n",
    "\n",
    "print(\"Train precision: %.4f\" % precision_at_k(model_1, train, k=k,num_threads=NUM_THREADS).mean())\n",
    "print(\"Test precision: %.4f\" % precision_at_k(model_1, test,train_interactions=train, k=k,num_threads=NUM_THREADS).mean())"
   ]
  },
  {
   "cell_type": "code",
   "execution_count": 267,
   "metadata": {},
   "outputs": [
    {
     "name": "stdout",
     "output_type": "stream",
     "text": [
      "Wall time: 11.4 s\n",
      "Collaborative filtering train AUC: 0.86342514\n",
      "Collaborative filtering test AUC: 0.5687692\n",
      "Train precision: 0.1494\n",
      "Test precision: 0.0168\n"
     ]
    }
   ],
   "source": [
    "\n",
    "NUM_THREADS = 25\n",
    "NUM_COMPONENTS = 45    \n",
    "NUM_EPOCHS = 43\n",
    "ITEM_ALPHA = 1.3846e-6\n",
    "learning_rate=0.0161445\n",
    "\n",
    "# BPR loss\n",
    "model = LightFM(loss='bpr',random_state=seed,\n",
    "                item_alpha=ITEM_ALPHA,\n",
    "               no_components=NUM_COMPONENTS,\n",
    "               learning_rate=learning_rate)\n",
    "\n",
    "# time it.\n",
    "%time model = model.fit(train,epochs=NUM_EPOCHS,num_threads=NUM_THREADS)\n",
    "\n",
    "\n",
    "# Compute and print the AUC score\n",
    "train_auc = auc_score(model, train, num_threads=NUM_THREADS).mean()\n",
    "print('Collaborative filtering train AUC: %s' % train_auc)\n",
    "\n",
    "test_auc = auc_score(model, test,num_threads=NUM_THREADS).mean()\n",
    "print('Collaborative filtering test AUC: %s' % test_auc)\n",
    "\n",
    "print(\"Train precision: %.4f\" % precision_at_k(model, train, k=k,num_threads=NUM_THREADS).mean())\n",
    "print(\"Test precision: %.4f\" % precision_at_k(model, test,train_interactions=train, k=k,num_threads=NUM_THREADS).mean())"
   ]
  },
  {
   "cell_type": "markdown",
   "metadata": {},
   "source": [
    "# Here we can see that the loss function bpr is showing serious overfitting with drop in accuracy of the train and test"
   ]
  },
  {
   "cell_type": "code",
   "execution_count": 268,
   "metadata": {},
   "outputs": [
    {
     "name": "stdout",
     "output_type": "stream",
     "text": [
      "Wall time: 1.69 s\n",
      "Collaborative filtering train AUC: 0.96849805\n",
      "Collaborative filtering test AUC: 0.8007936\n",
      "Train precision: 0.2039\n",
      "Test precision: 0.0311\n"
     ]
    }
   ],
   "source": [
    "NUM_THREADS = 25\n",
    "NUM_COMPONENTS = 21    \n",
    "NUM_EPOCHS = 16\n",
    "ITEM_ALPHA = 5.97967e-6\n",
    "learning_rate=0.033\n",
    "\n",
    "# Let's fit a WARP model\n",
    "model = LightFM(loss='warp',random_state=seed,\n",
    "                item_alpha=ITEM_ALPHA,\n",
    "               no_components=NUM_COMPONENTS,\n",
    "               learning_rate=learning_rate)\n",
    "\n",
    "#  time it.\n",
    "%time model = model.fit(train,epochs=NUM_EPOCHS,num_threads=NUM_THREADS)\n",
    "\n",
    "\n",
    "\n",
    "# Compute and print the AUC score\n",
    "train_auc = auc_score(model, train, num_threads=NUM_THREADS).mean()\n",
    "print('Collaborative filtering train AUC: %s' % train_auc)\n",
    "\n",
    "test_auc = auc_score(model, test,num_threads=NUM_THREADS).mean()\n",
    "print('Collaborative filtering test AUC: %s' % test_auc)\n",
    "\n",
    "\n",
    "print(\"Train precision: %.4f\" % precision_at_k(model, train, k=k,num_threads=NUM_THREADS).mean())\n",
    "print(\"Test precision: %.4f\" % precision_at_k(model, test,train_interactions=train, k=k,num_threads=NUM_THREADS).mean())"
   ]
  },
  {
   "cell_type": "code",
   "execution_count": 269,
   "metadata": {},
   "outputs": [
    {
     "name": "stdout",
     "output_type": "stream",
     "text": [
      "Wall time: 9.72 s\n",
      " Hybrid train AUC: 0.70179355\n",
      "Hybrid test AUC: 0.6982656\n",
      "Train precision: 0.0076\n",
      "Test precision: 0.0056\n"
     ]
    }
   ],
   "source": [
    "NUM_THREADS = 25\n",
    "NUM_COMPONENTS = 30\n",
    "learning_rate = 0.0053\n",
    "NUM_EPOCHS = 6\n",
    "ITEM_ALPHA = 2.228e-5\n",
    "\n",
    "## Hybrid models\n",
    "\n",
    "#Combine user_feature and item feature\n",
    "\n",
    "#logistic loss\n",
    "model.iii = LightFM(loss='logistic',\n",
    "                item_alpha=ITEM_ALPHA,\n",
    "                    random_state=seed,\n",
    "               no_components=NUM_COMPONENTS,learning_rate=learning_rate)\n",
    "\n",
    "# time it.\n",
    "%time model.iii = model.iii.fit(train,user_features=user_features,item_features=item_features,epochs=NUM_EPOCHS,num_threads=NUM_THREADS)\n",
    "\n",
    "# Compute and print the AUC score\n",
    "train_auc = auc_score(model.iii, train,user_features=user_features,item_features=item_features, num_threads=NUM_THREADS).mean()\n",
    "print(' Hybrid train AUC: %s' % train_auc)\n",
    "\n",
    "test_auc = auc_score(model.iii, test,user_features=user_features,item_features=item_features,num_threads=NUM_THREADS).mean()\n",
    "print('Hybrid test AUC: %s' % test_auc)\n",
    "\n",
    "#precision @k\n",
    "print(\"Train precision: %.4f\" % precision_at_k(model.iii, train,\n",
    "                                               item_features=item_features,user_features=user_features, k=k,\n",
    "                                               num_threads=NUM_THREADS).mean())\n",
    "print(\"Test precision: %.4f\" % precision_at_k(model.iii, test,train_interactions=train,\n",
    "                                              item_features=item_features,user_features=user_features, k=k,\n",
    "                                             num_threads=NUM_THREADS).mean())\n"
   ]
  },
  {
   "cell_type": "code",
   "execution_count": 270,
   "metadata": {},
   "outputs": [
    {
     "name": "stdout",
     "output_type": "stream",
     "text": [
      "Wall time: 8min 25s\n",
      "Hybrid train AUC: 0.9362968\n",
      "Hybrid test AUC: 0.80821425\n",
      "Train precision: 0.0559\n",
      "Test precision: 0.0268\n"
     ]
    }
   ],
   "source": [
    "NUM_THREADS = 25\n",
    "NUM_COMPONENTS = 77    \n",
    "NUM_EPOCHS = 80\n",
    "ITEM_ALPHA = 1.419e-6\n",
    "learning_rate=0.035\n",
    "\n",
    "\n",
    "# BPR\n",
    "model.iii = LightFM(loss='bpr',\n",
    "                item_alpha=ITEM_ALPHA,\n",
    "                     random_state=seed,\n",
    "               no_components=NUM_COMPONENTS,learning_rate=learning_rate)\n",
    "\n",
    "#  time it.\n",
    "%time model.iii = model.iii.fit(train,user_features=user_features,item_features=item_features,epochs=NUM_EPOCHS,num_threads=NUM_THREADS)\n",
    "\n",
    "\n",
    "# Compute and print the AUC score\n",
    "train_auc = auc_score(model.iii, train,user_features=user_features,item_features=item_features, num_threads=NUM_THREADS).mean()\n",
    "print('Hybrid train AUC: %s' % train_auc)\n",
    "\n",
    "test_auc = auc_score(model.iii, test,user_features=user_features,item_features=item_features,num_threads=NUM_THREADS).mean()\n",
    "print('Hybrid test AUC: %s' % test_auc)\n",
    "\n",
    "#precision @k\n",
    "print(\"Train precision: %.4f\" % precision_at_k(model.iii, train,\n",
    "                                               item_features=item_features,user_features=user_features, k=k,\n",
    "                                              num_threads=NUM_THREADS).mean())#0.41\n",
    "print(\"Test precision: %.4f\" % precision_at_k(model.iii, test,train_interactions=train,\n",
    "                                              item_features=item_features,user_features=user_features, k=k,\n",
    "                                             num_threads=NUM_THREADS).mean())#0.17\n"
   ]
  },
  {
   "cell_type": "code",
   "execution_count": 271,
   "metadata": {},
   "outputs": [
    {
     "name": "stdout",
     "output_type": "stream",
     "text": [
      "Wall time: 1min 28s\n",
      "Hybrid train AUC: 0.95442474\n",
      "Hybrid test AUC: 0.88656795\n",
      "Train precision: 0.0961\n",
      "Test precision: 0.0568\n"
     ]
    }
   ],
   "source": [
    "NUM_THREADS = 50\n",
    "NUM_COMPONENTS = 42    \n",
    "NUM_EPOCHS = 30\n",
    "ITEM_ALPHA = 0.000256\n",
    "learning_rate=0.0529\n",
    "# WARP\n",
    "model.iii = LightFM(loss='warp',\n",
    "                item_alpha=ITEM_ALPHA, random_state=seed,\n",
    "               no_components=NUM_COMPONENTS,learning_rate=learning_rate,learning_schedule='adagrad')\n",
    "\n",
    "#time it.\n",
    "%time model.iii = model.iii.fit(train,user_features=user_features,item_features=item_features,epochs=NUM_EPOCHS,num_threads=NUM_THREADS)\n",
    "\n",
    "\n",
    "\n",
    "# Compute and print the AUC score\n",
    "train_auc = auc_score(model.iii, train,user_features=user_features,item_features=item_features, num_threads=NUM_THREADS).mean()\n",
    "print('Hybrid train AUC: %s' % train_auc)\n",
    "\n",
    "test_auc = auc_score(model.iii, test,user_features=user_features,item_features=item_features,num_threads=NUM_THREADS).mean()\n",
    "print('Hybrid test AUC: %s' % test_auc)\n",
    "\n",
    "#precision @k\n",
    "print(\"Train precision: %.4f\" % precision_at_k(model.iii, train,\n",
    "                                               item_features=item_features,user_features=user_features, k=k,\n",
    "                                              num_threads=NUM_THREADS).mean())\n",
    "print(\"Test precision: %.4f\" % precision_at_k(model.iii, test,train_interactions=train,\n",
    "                                              item_features=item_features,user_features=user_features, k=k,\n",
    "                                             num_threads=NUM_THREADS).mean())"
   ]
  },
  {
   "cell_type": "code",
   "execution_count": 36,
   "metadata": {},
   "outputs": [
    {
     "name": "stdout",
     "output_type": "stream",
     "text": [
      "Wall time: 3min 34s\n",
      "Hybrid train AUC: 0.96315956\n",
      "Hybrid test AUC: 0.8841477\n",
      "Train precision: 0.0995\n",
      "Test precision: 0.0570\n"
     ]
    }
   ],
   "source": [
    "NUM_THREADS = 50\n",
    "NUM_COMPONENTS = 42    \n",
    "NUM_EPOCHS = 30\n",
    "ITEM_ALPHA = 0.000256\n",
    "learning_rate=0.0529\n",
    "# WARP\n",
    "model_opt = LightFM(loss='warp-kos',\n",
    "                item_alpha=ITEM_ALPHA, random_state=seed,\n",
    "               no_components=NUM_COMPONENTS,learning_rate=learning_rate,learning_schedule='adagrad')\n",
    "\n",
    "#time it.\n",
    "%time model_opt = model_opt.fit(train,user_features=user_features,item_features=item_features,epochs=NUM_EPOCHS,num_threads=NUM_THREADS)\n",
    "\n",
    "\n",
    "\n",
    "# Compute and print the AUC score\n",
    "train_auc = auc_score(model_opt, train,user_features=user_features,item_features=item_features, num_threads=NUM_THREADS).mean()\n",
    "print('Hybrid train AUC: %s' % train_auc)\n",
    "\n",
    "test_auc = auc_score(model_opt, test,user_features=user_features,item_features=item_features,num_threads=NUM_THREADS).mean()\n",
    "print('Hybrid test AUC: %s' % test_auc)\n",
    "\n",
    "#precision @k\n",
    "print(\"Train precision: %.4f\" % precision_at_k(model_opt, train,\n",
    "                                               item_features=item_features,user_features=user_features, k=k,\n",
    "                                              num_threads=NUM_THREADS).mean())\n",
    "print(\"Test precision: %.4f\" % precision_at_k(model_opt, test,train_interactions=train,\n",
    "                                              item_features=item_features,user_features=user_features, k=k,\n",
    "                                             num_threads=NUM_THREADS).mean())"
   ]
  },
  {
   "cell_type": "code",
   "execution_count": 37,
   "metadata": {},
   "outputs": [],
   "source": [
    "from IPython.display import Markdown, display\n",
    "def printmd(string):\n",
    "    display(Markdown(string))\n",
    "    \n",
    "def sample_train_recommendation(model, train, data_meta, user_ids, k, name, mapping, tag=None, user_features=None,\n",
    "                                item_features=None, num_threads=50):\n",
    "    n_users, n_items = train.shape\n",
    "\n",
    "    # =============================================================================\n",
    "    #     ranks = model.predict_rank(interactions,\n",
    "    #                                train_interactions=train_interactions,\n",
    "    #                                user_features=user_features,\n",
    "    #                                item_features=item_features,\n",
    "    #                                num_threads=num_threads,\n",
    "    #                                check_intersections=check_intersections,\n",
    "    #                                )\n",
    "    #\n",
    "    #     ranks.data = np.less(ranks.data, k, ranks.data)\n",
    "    #\n",
    "    #     precision = np.squeeze(np.array(ranks.sum(axis=1))) / k\n",
    "    #\n",
    "    #     if not preserve_rows:\n",
    "    #         precision = precision[test_interactions.getnnz(axis=1) > 0]\n",
    "    #\n",
    "    #     return precision\n",
    "    # =============================================================================\n",
    "\n",
    "    for user_id in user_ids:\n",
    "\n",
    "        t_idx = {value: key for key, value in mapping.items()}\n",
    "        u_idx = [x for x in train.tocsr()[user_id].indices]\n",
    "        known_positives = data_meta.loc[u_idx, name]  # may need change\n",
    "        if tag is not None:\n",
    "            known_tags = data_meta.loc[u_idx, tag]  # get item tags.\n",
    "\n",
    "        if (len(known_positives) < k):\n",
    "            print('not enough known positives, return max number')\n",
    "\n",
    "        scores = model.predict(user_id, np.arange(n_items), user_features=user_features, item_features=item_features,\n",
    "                               num_threads=num_threads)\n",
    "        i_idx = [x for x in np.argsort(-scores)]\n",
    "        top_items = data_meta.loc[i_idx, name]\n",
    "        if tag is not None:\n",
    "            top_tags = data_meta.loc[i_idx, tag]  # get item tags.\n",
    "\n",
    "        printmd(\"**User %s**\" % user_id)\n",
    "        printmd(\"**Known positives:**\")\n",
    "\n",
    "        if tag is not None:\n",
    "            for x in range(len(known_positives)):\n",
    "                print(\" %s | %s\" % (known_positives.values[x], known_tags.values[x]))\n",
    "        else:\n",
    "            for x in known_positives[:len(known_positives)]:\n",
    "                print(\"        %s\" % x)\n",
    "\n",
    "        printmd(\"**Recommended:**\")\n",
    "        cnt = 0\n",
    "        if tag is not None:\n",
    "            for x in range(k):\n",
    "                print(\" %s | %s\" % (top_items.values[x], top_tags.values[x]))\n",
    "                if (top_items.values[x] in known_positives.values):\n",
    "                    cnt += 1\n",
    "                    print('This one clicked')\n",
    "        else:\n",
    "            for x in top_items[:k]:\n",
    "                print(\"        %s\" % x)\n",
    "                if (x in known_positives.values):\n",
    "                    cnt += 1\n",
    "                    print('This one clicked')\n",
    "        #printmd('*cnt: *' + str(cnt))\n",
    "        printmd('*k_p: %s*'%str(len(known_positives)))\n",
    "        p_k = cnt / k\n",
    "        printmd('*precicion at k : %s*'%str(p_k))\n",
    "        print('----------------------------------------------------------------------')\n",
    "\n",
    "\n",
    "def sample_test_recommendation(model, train, test, data_meta, user_ids, k, name, mapping, tag=None,\n",
    "                               train_interactions=None, user_features=None,\n",
    "                               item_features=None, num_threads=50):\n",
    "    n_users, n_items = test.shape\n",
    "\n",
    "    for user_id in user_ids:\n",
    "        \n",
    "        printmd(\"**User %s**\" % user_id)\n",
    "        \n",
    "        t_idx = {value: key for key, value in mapping.items()}\n",
    "        u_idx = [x for x in test.tocsr()[user_id].indices]\n",
    "\n",
    "        known_positives = data_meta.loc[u_idx, name]  # may need change\n",
    "\n",
    "        print('length of known_positives: ' + str(len(known_positives)))\n",
    "        if (len(known_positives) == 0):\n",
    "            sample_train_recommendation(model, train, data_meta, [user_id], k, name, mapping, tag, user_features,\n",
    "                                        item_features)\n",
    "            continue\n",
    "\n",
    "        elif (len(known_positives) < k):\n",
    "            print('not enough known positives, return max number')\n",
    "\n",
    "        if tag is not None:\n",
    "            known_tags = data_meta.loc[u_idx, tag]  # get item tags.\n",
    "\n",
    "        if (train_interactions is None):\n",
    "            scores = model.predict(user_id, np.arange(n_items), user_features=user_features,\n",
    "                                   item_features=item_features,\n",
    "                                   num_threads=num_threads)\n",
    "            i_idx = [x for x in np.argsort(-scores)]\n",
    "            top_items = data_meta.loc[i_idx, name]\n",
    "            if tag is not None:\n",
    "                top_tags = data_meta.loc[i_idx, tag]  # get item tags.\n",
    "\n",
    "        else:\n",
    "            item_ids = np.delete(np.arange(n_items), train.tocsr()[user_id].indices)\n",
    "            scores = model.predict(user_id, item_ids, user_features=user_features, item_features=item_features,\n",
    "                                   num_threads=num_threads)\n",
    "            i_idx = [x for x in np.argsort(-scores)]\n",
    "            top_items = data_meta.loc[i_idx, name]\n",
    "            if tag is not None:\n",
    "                top_tags = data_meta.loc[i_idx, tag]  # get item tags.\n",
    "\n",
    "        \n",
    "        printmd(\"**Known likes:**\")\n",
    "\n",
    "        if tag is not None:\n",
    "            for x in range(len(known_positives)):\n",
    "                print(\" %s | %s\" % (known_positives.values[x], known_tags.values[x]))\n",
    "        else:\n",
    "            for x in known_positives[:len(known_positives)]:\n",
    "                print(\"        %s\" % x)\n",
    "\n",
    "        printmd(\"**Recommended:**\")\n",
    "        cnt = 0\n",
    "        if tag is not None:\n",
    "            for x in range(k):\n",
    "                print(\" %s | %s\" % (top_items.values[x], top_tags.values[x]))\n",
    "                if (top_items.values[x] in known_positives.values):\n",
    "                    cnt += 1\n",
    "                    print('This one clicked')\n",
    "        else:\n",
    "            for x in top_items[:k]:\n",
    "                print(\"        %s\" % x)\n",
    "                if (x in known_positives.values):\n",
    "                    cnt += 1\n",
    "                    print('This one clicked')\n",
    "        #printmd('*cnt: *' + str(cnt))\n",
    "        printmd('*k_p: %s*'%str(len(known_positives)))\n",
    "        p_k = cnt / k\n",
    "        printmd('*precicion at k : %s*'%str(p_k))\n",
    "        print('----------------------------------------------------------------------')\n",
    "\n",
    "def get_user_index(test):\n",
    "    return scipy.sparse.find(test)[0]"
   ]
  },
  {
   "cell_type": "code",
   "execution_count": 38,
   "metadata": {
    "scrolled": true
   },
   "outputs": [
    {
     "name": "stdout",
     "output_type": "stream",
     "text": [
      "not enough known positives, return max number\n"
     ]
    },
    {
     "data": {
      "text/markdown": [
       "**User 10**"
      ],
      "text/plain": [
       "<IPython.core.display.Markdown object>"
      ]
     },
     "metadata": {},
     "output_type": "display_data"
    },
    {
     "data": {
      "text/markdown": [
       "**Known positives:**"
      ],
      "text/plain": [
       "<IPython.core.display.Markdown object>"
      ]
     },
     "metadata": {},
     "output_type": "display_data"
    },
    {
     "name": "stdout",
     "output_type": "stream",
     "text": [
      " Dunkin' | Donuts, Food, Coffee & Tea\n",
      " Subway Restaurants | Restaurants, Fast Food, Sandwiches\n",
      " The Wok - Chinese Express | Chinese, Restaurants\n"
     ]
    },
    {
     "data": {
      "text/markdown": [
       "**Recommended:**"
      ],
      "text/plain": [
       "<IPython.core.display.Markdown object>"
      ]
     },
     "metadata": {},
     "output_type": "display_data"
    },
    {
     "name": "stdout",
     "output_type": "stream",
     "text": [
      " Dunkin' | Donuts, Food, Coffee & Tea\n",
      "This one clicked\n",
      " Broadway Food Hall | Hawaiian, American (Traditional), Restaurants, Food Court\n",
      " Buzzard's Place | Desserts, Restaurants, American (Traditional), Food, Bars, Nightlife\n",
      " Merry Ann's Diner | Restaurants, Diners, Sandwiches, Breakfast & Brunch, American (Traditional)\n",
      " Smoky's House BBQ | Chicken Wings, Restaurants, Barbeque\n"
     ]
    },
    {
     "data": {
      "text/markdown": [
       "*k_p: 3*"
      ],
      "text/plain": [
       "<IPython.core.display.Markdown object>"
      ]
     },
     "metadata": {},
     "output_type": "display_data"
    },
    {
     "data": {
      "text/markdown": [
       "*precicion at k : 0.2*"
      ],
      "text/plain": [
       "<IPython.core.display.Markdown object>"
      ]
     },
     "metadata": {},
     "output_type": "display_data"
    },
    {
     "name": "stdout",
     "output_type": "stream",
     "text": [
      "----------------------------------------------------------------------\n"
     ]
    },
    {
     "data": {
      "text/markdown": [
       "**User 62**"
      ],
      "text/plain": [
       "<IPython.core.display.Markdown object>"
      ]
     },
     "metadata": {},
     "output_type": "display_data"
    },
    {
     "name": "stdout",
     "output_type": "stream",
     "text": [
      "length of known_positives: 4\n",
      "not enough known positives, return max number\n"
     ]
    },
    {
     "data": {
      "text/markdown": [
       "**Known likes:**"
      ],
      "text/plain": [
       "<IPython.core.display.Markdown object>"
      ]
     },
     "metadata": {},
     "output_type": "display_data"
    },
    {
     "name": "stdout",
     "output_type": "stream",
     "text": [
      " Columbia Street Roastery By Herriott's | Coffee Roasteries, Shopping, Brewing Supplies, Grocery, Food, Coffee & Tea\n",
      " Pies by Inge | Bakeries, Desserts, Cupcakes, Restaurants, Food\n",
      " Burrito King | Mexican, Restaurants\n",
      " FOUR | Food, Cafes, Bakeries, Restaurants, Breakfast & Brunch\n"
     ]
    },
    {
     "data": {
      "text/markdown": [
       "**Recommended:**"
      ],
      "text/plain": [
       "<IPython.core.display.Markdown object>"
      ]
     },
     "metadata": {},
     "output_type": "display_data"
    },
    {
     "name": "stdout",
     "output_type": "stream",
     "text": [
      " BoBo's BBQ | Hot Dogs, Restaurants, Barbeque\n",
      " Art Mart | Shopping, Women's Clothing, Delis, Restaurants, Bakeries, Fashion, Food, Specialty Food\n",
      " Baskin Robbins | Ice Cream & Frozen Yogurt, Food, Restaurants\n",
      " Burger King | Burgers, Restaurants, Fast Food\n",
      " Gumby's Pizza | Food, Pizza, Restaurants\n"
     ]
    },
    {
     "data": {
      "text/markdown": [
       "*k_p: 4*"
      ],
      "text/plain": [
       "<IPython.core.display.Markdown object>"
      ]
     },
     "metadata": {},
     "output_type": "display_data"
    },
    {
     "data": {
      "text/markdown": [
       "*precicion at k : 0.0*"
      ],
      "text/plain": [
       "<IPython.core.display.Markdown object>"
      ]
     },
     "metadata": {},
     "output_type": "display_data"
    },
    {
     "name": "stdout",
     "output_type": "stream",
     "text": [
      "----------------------------------------------------------------------\n"
     ]
    }
   ],
   "source": [
    "\n",
    "#test corresponding recpmmendation\n",
    "\n",
    "sample_train_recommendation(model_opt,train,business,[10],5,'name',mapping=dataset.mapping()[2],tag='category',\n",
    "                              user_features = user_features,item_features=item_features)\n",
    "user_index=list(set(get_user_index(test)))\n",
    "sample_test_recommendation(model_opt,train,test,business,[user_index[51]],5,'name',mapping=dataset.mapping()[2],\n",
    "                              train_interactions=train,tag='category',user_features = user_features,item_features=item_features)\n",
    "\n"
   ]
  },
  {
   "cell_type": "code",
   "execution_count": 39,
   "metadata": {},
   "outputs": [
    {
     "name": "stdout",
     "output_type": "stream",
     "text": [
      "Most similar tags for Chinese: ['Seafood', 'Sushi Bars', 'Barbeque', 'Japanese', 'Thai']\n",
      "Most similar tags for Bars: ['Nightlife', 'Breweries', 'Sports Bars', 'Arts & Entertainment', 'Lounges']\n",
      "Most similar tags for Ice Cream & Frozen Yogurt: ['Desserts', 'Juice Bars & Smoothies', 'Grocery', 'Hot Dogs', 'Bakeries']\n",
      "Most similar tags for Italian: ['Food Delivery Services', 'Event Planning & Services', 'Caterers', 'Salad', 'Pizza']\n"
     ]
    }
   ],
   "source": [
    "# get similar tags\n",
    "def get_similar_tags(model, tag_id,k):\n",
    "    # Define similarity as the cosine of the angle\n",
    "    # between the tag latent vectors\n",
    "\n",
    "    # Normalize the vectors to unit length\n",
    "    tag_embeddings = (model.item_embeddings[849:].T\n",
    "                      / np.linalg.norm(model.item_embeddings[849:], axis=1)).T\n",
    "\n",
    "    query_embedding = tag_embeddings[tag_id]\n",
    "    similarity = np.dot(tag_embeddings, query_embedding)\n",
    "    most_similar = np.argsort(-similarity)[1:k+1]\n",
    "\n",
    "    return most_similar\n",
    "tag_labels = list(dataset.mapping()[3].keys())[849:]\n",
    "#tag_labels\n",
    "\n",
    "target_ls = ['Chinese','Bars','Ice Cream & Frozen Yogurt','Italian']\n",
    "for tag in target_ls:\n",
    "   tag_id = tag_labels.index(tag)\n",
    "   print('Most similar tags for %s: %s' % (tag_labels[tag_id],\n",
    "                                           [tag_labels[x] for x in get_similar_tags(model_opt, tag_id,5)]))"
   ]
  },
  {
   "cell_type": "code",
   "execution_count": 1,
   "metadata": {},
   "outputs": [],
   "source": [
    "_, item_embeddings = model_opt.get_item_representations(item_features)\n",
    "from annoy import AnnoyIndex\n",
    "\n",
    "factors = item_embeddings.shape[1] # Length of item vector that will be indexed\n",
    "annoy_idx = AnnoyIndex(factors)  \n",
    "for i in range(item_embeddings.shape[0]):\n",
    "    v = item_embeddings[i]\n",
    "    annoy_idx.add_item(i, v)\n",
    "\n",
    "annoy_idx.build(20) # 10 trees\n",
    "annoy_idx.save('yelp_item_Annoy_idx.ann')"
   ]
  },
  {
   "cell_type": "code",
   "execution_count": 46,
   "metadata": {},
   "outputs": [],
   "source": [
    "\n",
    "def nearest_restaurants_annoy(business_id, index, n=10, print_output=True):\n",
    "    nn = index.get_nns_by_item(business_id, 10)\n",
    "    if print_output:\n",
    "        print('Closest to %s : \\n' % business['name'][business_id])\n",
    "    titles = [business['name'][i] for i in nn]\n",
    "    if print_output:\n",
    "        print(\"\\n\".join(titles))"
   ]
  },
  {
   "cell_type": "code",
   "execution_count": 47,
   "metadata": {},
   "outputs": [
    {
     "name": "stdout",
     "output_type": "stream",
     "text": [
      "Closest to Papa Del's Pizza : \n",
      "\n",
      "Papa Del's Pizza\n",
      "Honey Baked Ham Company\n",
      "Village Inn Pizza\n",
      "Rick's Bakery\n",
      "Aroma Curry House\n",
      "Pekara\n",
      "Taco Bell\n",
      "Lox Stock & Bagel\n",
      "Giordano's - Champaign\n",
      "Hopscotch\n"
     ]
    }
   ],
   "source": [
    "nearest_restaurants_annoy(91, annoy_idx)"
   ]
  },
  {
   "cell_type": "code",
   "execution_count": 48,
   "metadata": {},
   "outputs": [
    {
     "data": {
      "text/plain": [
       "True"
      ]
     },
     "execution_count": 48,
     "metadata": {},
     "output_type": "execute_result"
    }
   ],
   "source": [
    "norms = np.linalg.norm(item_embeddings, axis=1)\n",
    "max_norm = norms.max()\n",
    "extra_dimension = np.sqrt(max_norm ** 2 - norms ** 2)\n",
    "norm_data = np.append(item_embeddings, extra_dimension.reshape(norms.shape[0], 1), axis=1)\n",
    "\n",
    "#First an Annoy index:\n",
    "\n",
    "user_factors = norm_data.shape[1]\n",
    "annoy_member_idx = AnnoyIndex(user_factors)  # Length of item vector that will be indexed\n",
    "for i in range(norm_data.shape[0]):\n",
    "    v = norm_data[i]\n",
    "    annoy_member_idx.add_item(i, v)\n",
    "    \n",
    "annoy_member_idx.build(10)"
   ]
  },
  {
   "cell_type": "code",
   "execution_count": 50,
   "metadata": {},
   "outputs": [],
   "source": [
    "# Define our user vectors\n",
    "\n",
    "_, user_embeddings = model_opt.get_user_representations()\n",
    "\n",
    "def sample_recommendation(user_ids, model, data, n_items=10, print_output=True):\n",
    "    n_users, n_items = train.shape\n",
    "\n",
    "    for user_id in user_ids:\n",
    "        known_positives = business['name'][train.tocsr()[user_id].indices]\n",
    "        top_items = [business['name'][i] for i in annoy_member_idx.get_nns_by_vector(np.append(user_embeddings[user_id], 0), 600)]\n",
    "        if print_output == True:\n",
    "            print(\"User %s\" % user_id)\n",
    "            print(\"     Known positives:\")\n",
    "\n",
    "            for x in known_positives[:3]:\n",
    "                print(\"        %s\" % x)\n",
    "\n",
    "            print(\"     Recommended:\")\n",
    "\n",
    "            for x in top_items[:3]:\n",
    "                print(\"        %s\" % x)"
   ]
  },
  {
   "cell_type": "code",
   "execution_count": 52,
   "metadata": {},
   "outputs": [
    {
     "name": "stdout",
     "output_type": "stream",
     "text": [
      "User 60\n",
      "     Known positives:\n",
      "        Dunkin'\n",
      "        Black Rock Pizza\n",
      "        Market at the Square\n",
      "     Recommended:\n",
      "        Los Amigos\n",
      "        Sarku Japan\n",
      "        Krispy Krunchy Chicken\n",
      "User 5\n",
      "     Known positives:\n",
      "        Hilton Garden Inn Champaign/ Urbana\n",
      "     Recommended:\n",
      "        The Wok - Chinese Express\n",
      "        Hen House Family Restaurant\n",
      "        I Wok\n",
      "User 51\n",
      "     Known positives:\n",
      "        Merry Ann's Diner\n",
      "        BoBo's BBQ\n",
      "     Recommended:\n",
      "        McAlister's Deli\n",
      "        McDonald's\n",
      "        Crazy Buffet\n"
     ]
    }
   ],
   "source": [
    "sample_recommendation([60,5,51], model_opt, business, print_output=True)"
   ]
  },
  {
   "cell_type": "code",
   "execution_count": 53,
   "metadata": {},
   "outputs": [],
   "source": [
    "def annoy_precision_at_k(user_ids, k=600):\n",
    "    test_csr = test.tocsr()\n",
    "    paks = []\n",
    "    for user_id in user_ids:\n",
    "        test_interactions = test_csr[user_id].indices\n",
    "        if len(test_interactions) > 0:\n",
    "            recommendations = annoy_member_idx.get_nns_by_vector(np.append(user_embeddings[user_id], 0), k)\n",
    "            hits = len(set(test_interactions).intersection(recommendations))\n",
    "            pak = hits / (len(test_interactions) * 1.0)\n",
    "            paks.append(pak)\n",
    "    return np.array(paks).mean()\n",
    "\n",
    "annoy_pak = annoy_precision_at_k(np.arange(test.shape[0]))"
   ]
  },
  {
   "cell_type": "code",
   "execution_count": 54,
   "metadata": {},
   "outputs": [
    {
     "data": {
      "text/plain": [
       "0.7463931028666797"
      ]
     },
     "execution_count": 54,
     "metadata": {},
     "output_type": "execute_result"
    }
   ],
   "source": [
    "annoy_pak"
   ]
  },
  {
   "cell_type": "code",
   "execution_count": null,
   "metadata": {},
   "outputs": [],
   "source": [
    "# #Using sk-learn optimizer\n",
    "from scipy.optimize import brute\n",
    "from skopt import forest_minimize,gbrt_minimize,dummy_minimize\n",
    "from skopt import callbacks\n",
    "\n",
    "num_thread=50\n",
    "#for model include item_Features\n",
    "def objective(params):\n",
    "    # unpack\n",
    "    epochs, learning_rate,\\\n",
    "    no_components, alpha = params\n",
    "    \n",
    "    user_alpha = alpha\n",
    "    item_alpha = alpha\n",
    "    model_iii = LightFM(loss='warp-kos',\n",
    "                    random_state=123,\n",
    "                    learning_rate=learning_rate,\n",
    "                    no_components=no_components,\n",
    "                    user_alpha=user_alpha,\n",
    "                    item_alpha=item_alpha,learning_schedule='adagrad')\n",
    "    model_iii.fit(train, epochs=epochs,\n",
    "              num_threads=num_thread,\n",
    "                  item_features=item_features\n",
    "                  ,user_features=user_features,\n",
    "                   verbose=True)\n",
    "    \n",
    "    patks = auc_score(model_iii, test,\n",
    "                           train_interactions=train,\n",
    "                           item_features=item_features\n",
    "                      ,user_features = user_features,\n",
    "                       num_threads=num_thread).mean()\n",
    "#     mapatk = np.mean(patks)\n",
    "    # Make negative because we want to _minimize_ objective\n",
    "#     out = -mapatk\n",
    "    out = -patks\n",
    "    # Handle some numerical issue going on\n",
    "    if np.abs(out + 1) < 0.01 or out < -1.0:\n",
    "        return 0.0\n",
    "    else:\n",
    "        return out\n",
    "\n",
    "space = [(30, 80), # epochs\n",
    "         (0.0001, 0.04, 'log-uniform'), # learning_rate\n",
    "         (42, 80), # no_components\n",
    "         (10**-6, 0.1, 'log-uniform'), # alpha\n",
    "        ]\n",
    "\n",
    "try:\n",
    "    res_fm = forest_minimize(objective, space, n_calls=50,\n",
    "                     random_state=123,base_estimator= 'RF',acq_func='PI',\n",
    "                     verbose=True, n_jobs=num_thread)\n",
    "except ValueError:\n",
    "    print('Forest diverged, random search intialized')\n",
    "    res_fm = dummy_minimize(objective, space, n_calls=30,\n",
    "         random_state=123,\n",
    "         verbose=True)\n",
    "\n",
    "print('Maximimum auc found: {:6.5f}'.format(-res_fm.fun))\n",
    "print('Optimal parameters:')\n",
    "params = ['epochs', 'learning_rate', 'no_components', 'alpha']\n",
    "for (p, x_) in zip(params, res_fm.x):\n",
    "    print('{}: {}'.format(p, x_))\n",
    "from skopt.plots import plot_convergence\n",
    "plot_convergence(res_fm);"
   ]
  },
  {
   "cell_type": "code",
   "execution_count": null,
   "metadata": {},
   "outputs": [],
   "source": [
    "\n",
    "from skopt.plots import plot_convergence\n",
    "plot_convergence(res_fm);"
   ]
  }
 ],
 "metadata": {
  "kernelspec": {
   "display_name": "Python 3",
   "language": "python",
   "name": "python3"
  },
  "language_info": {
   "codemirror_mode": {
    "name": "ipython",
    "version": 3
   },
   "file_extension": ".py",
   "mimetype": "text/x-python",
   "name": "python",
   "nbconvert_exporter": "python",
   "pygments_lexer": "ipython3",
   "version": "3.7.5"
  }
 },
 "nbformat": 4,
 "nbformat_minor": 2
}
